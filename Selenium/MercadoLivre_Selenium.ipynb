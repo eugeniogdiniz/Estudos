{
 "cells": [
  {
   "cell_type": "code",
   "execution_count": 1,
   "id": "c58e84bc",
   "metadata": {},
   "outputs": [
    {
     "data": {
      "text/plain": [
       "'Eugênio Lenine Gueiros Diniz 2100334'"
      ]
     },
     "execution_count": 1,
     "metadata": {},
     "output_type": "execute_result"
    }
   ],
   "source": [
    "'AC05BD02'\n",
    "'Eugênio Lenine Gueiros Diniz 2100334'\n",
    "'Christian Guimarães Cilento Negrão 2020015'"
   ]
  },
  {
   "cell_type": "code",
   "execution_count": null,
   "id": "183c519e",
   "metadata": {},
   "outputs": [],
   "source": [
    "pip install selenium"
   ]
  },
  {
   "cell_type": "code",
   "execution_count": null,
   "id": "e0e13cf3",
   "metadata": {},
   "outputs": [],
   "source": [
    "import requests\n",
    "import pandas as pd\n",
    "from bs4 import BeautifulSoup\n",
    "from selenium import webdriver\n",
    "from selenium.webdriver.common.keys import Keys"
   ]
  },
  {
   "cell_type": "code",
   "execution_count": null,
   "id": "d4e41f2c",
   "metadata": {},
   "outputs": [],
   "source": [
    "url = 'https://www.mercadolivre.com.br/'"
   ]
  },
  {
   "cell_type": "code",
   "execution_count": null,
   "id": "8718d7e1",
   "metadata": {},
   "outputs": [],
   "source": [
    "drive = webdriver.Chrome()\n",
    "drive.get(url)\n",
    "time.sleep(10)"
   ]
  },
  {
   "cell_type": "code",
   "execution_count": null,
   "id": "c4a01308",
   "metadata": {},
   "outputs": [],
   "source": [
    "elem = drive.find_element_by_name(\"as_word\")\n",
    "elem.clear()\n",
    "elem.send_keys(\"ps5\")\n",
    "elem.send_keys(Keys.RETURN)"
   ]
  },
  {
   "cell_type": "code",
   "execution_count": null,
   "id": "51575903",
   "metadata": {},
   "outputs": [],
   "source": [
    "element = driver.find_element_by_xpath('html')\n",
    "#print(element.text)\n",
    "html_content = element.get_attribute('outerHTML')\n",
    "#print(html_content)\n",
    "#driver.quit()\n",
    "soup = BeautifulSoup(html_content, 'html.parser')\n",
    "#print(soup.text)\n",
    "for titulo in soup.find_all(class_=\"ui-search-item__group ui-search-item__group--title\"):\n",
    "    print(titulo.text)"
   ]
  },
  {
   "cell_type": "code",
   "execution_count": null,
   "id": "edd74f61",
   "metadata": {},
   "outputs": [],
   "source": [
    "lista_1 = []\n",
    "\n",
    "for titulo in soup.find_all(class_='ui-search-item__group ui-search-item__group--title'):\n",
    "    lista_1.append(titulo.text)"
   ]
  },
  {
   "cell_type": "code",
   "execution_count": null,
   "id": "720ac258",
   "metadata": {},
   "outputs": [],
   "source": [
    "preco_completo = soup.find_all('div',attrs={'class':'ui-search-result__content-wrapper'})\n",
    "\n",
    "produto =[]\n",
    "for preco_produto in preco_completo:\n",
    "    produto.append(preco_produto.find('div',attrs={'class':'ui-search-price__second-line'}).text)\n",
    "   \n",
    "lista_preco = []\n",
    "for valor_produto in produto:\n",
    "      lista_preco.append(round(float(valor_produto.split('reais')[0]),2))"
   ]
  },
  {
   "cell_type": "code",
   "execution_count": null,
   "id": "3c41325b",
   "metadata": {},
   "outputs": [],
   "source": [
    "df = pd.DataFrame(zip(lista_1,lista_preco), columns=['titulo','preço'])"
   ]
  },
  {
   "cell_type": "code",
   "execution_count": null,
   "id": "bdcffded",
   "metadata": {},
   "outputs": [],
   "source": [
    "pd.set_option(\"max_rows\", None)\n",
    "df"
   ]
  }
 ],
 "metadata": {
  "kernelspec": {
   "display_name": "Python 3",
   "language": "python",
   "name": "python3"
  },
  "language_info": {
   "codemirror_mode": {
    "name": "ipython",
    "version": 3
   },
   "file_extension": ".py",
   "mimetype": "text/x-python",
   "name": "python",
   "nbconvert_exporter": "python",
   "pygments_lexer": "ipython3",
   "version": "3.8.8"
  }
 },
 "nbformat": 4,
 "nbformat_minor": 5
}
